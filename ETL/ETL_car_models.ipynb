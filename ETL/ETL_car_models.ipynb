{
 "cells": [
  {
   "cell_type": "code",
   "execution_count": 377,
   "metadata": {},
   "outputs": [],
   "source": [
    "import pandas as pd\n",
    "import numpy as np"
   ]
  },
  {
   "attachments": {},
   "cell_type": "markdown",
   "metadata": {},
   "source": [
    "Del siguiente listado con los autos autorizados para funcionar como taxi (https://www.nyc.gov/assets/tlc/images/content/pages/businesses/vehicles_approved_for_taxicabs.png), decidimos utilizar como referencia aquellos modelos que sigan disponibles, es decir, que no se encuenten discontinuados y cuyo ultimo modelo sea año 2023. El precio de referencia es el MSRP (manufacturer's suggested retail price) tambien conocido como precio de lista. El siguiente csv fue creado a partir de WebScrapping para obtener información sobre el precio de cada modelo, información extraída de la siguiente página: https://carbuzz.com/cars/"
   ]
  },
  {
   "cell_type": "code",
   "execution_count": 787,
   "metadata": {},
   "outputs": [],
   "source": [
    "df_lista_autos = pd.read_csv(\"Datasets\\Auxiliares\\car_price.csv\")"
   ]
  },
  {
   "attachments": {},
   "cell_type": "markdown",
   "metadata": {},
   "source": [
    "Importar distintos csv para buscar datos de consumo y de emisiones de CO2, cruzandolo con el dataset de modelos de autos. La fuente de donde se extrajeron los siguientes datasets es la siguiente: https://open.canada.ca/data/en/dataset/98f1a129-f628-4ce4-b24d-6f16bf24dd64#wb-auto-6\n"
   ]
  },
  {
   "attachments": {},
   "cell_type": "markdown",
   "metadata": {},
   "source": [
    "Primer dataset: -My2023 Fuel Cosumption Ratings"
   ]
  },
  {
   "cell_type": "code",
   "execution_count": 788,
   "metadata": {},
   "outputs": [],
   "source": [
    "#Importación del csv a un dataframe\n",
    "df_fuel_ratings= pd.read_csv(\"Datasets\\Fuel Consumption\\MY2023 Fuel Consumption Ratings.csv\")"
   ]
  },
  {
   "cell_type": "code",
   "execution_count": 789,
   "metadata": {},
   "outputs": [],
   "source": [
    "#Selección de las columnas a utilizar\n",
    "df_fuel_ratings= df_fuel_ratings[['Model Year','Make','Model','Fuel Type',\n",
    "                                  'Fuel Consumption Comb (L/100 km)','CO2 Emissions (g/km)']]"
   ]
  },
  {
   "cell_type": "code",
   "execution_count": 790,
   "metadata": {},
   "outputs": [],
   "source": [
    "def Obtener_info (dataframe):\n",
    "\n",
    "    #Agregamos en una lista los modelos que queremos rastrear\n",
    "    lista_modelos= df_lista_autos['Model'].tolist()\n",
    "    list_indices= []\n",
    "\n",
    "    #Evaluamos si se encuentra dicho modelo, de ser así agregamos el índice a una lista\n",
    "    for index, value in enumerate (dataframe['Model']):\n",
    "        for i in lista_modelos:\n",
    "            if i.lower() in value.lower():\n",
    "                list_indices.append(index)\n",
    "\n",
    "    #Filtramos el dataframe según los índices obtenidos\n",
    "    modelos= dataframe.iloc[list_indices]\n",
    "    \n",
    "    #Retornamos el dataframe filtrado\n",
    "    return modelos"
   ]
  },
  {
   "cell_type": "code",
   "execution_count": 968,
   "metadata": {},
   "outputs": [],
   "source": [
    "#Creamos el nuevo dataframe llamando a la función y tomamos los registros que necesitamos\n",
    "modelos = Obtener_info(df_fuel_ratings).iloc[[0,1,8,10,13,15,17,20,22,26,30,32,33,37,38,44,46]]\n",
    "\n",
    "#Reseteamos el índice para dejar ordenado el dataframe\n",
    "modelos.reset_index(drop=True, inplace=True)"
   ]
  },
  {
   "cell_type": "code",
   "execution_count": 971,
   "metadata": {},
   "outputs": [],
   "source": [
    "#Quitar palabras extra de los modelos para que coincidan con la lista de modelos\n",
    "char_remov= ['Van', 'AWD', 'SE', 'LE', 'Cargo']\n",
    "\n",
    "for index, value in enumerate (modelos['Model']):\n",
    "    for char in char_remov:\n",
    "        value = value.replace(char, \"\").strip()\n",
    "        modelos.loc[index, 'Model'] = value"
   ]
  },
  {
   "cell_type": "code",
   "execution_count": 972,
   "metadata": {},
   "outputs": [],
   "source": [
    "#Renombrar columnas para lograr la coincidencia entre dataframes\n",
    "modelos.rename(columns= {'Fuel Consumption Comb (L/100 km)': \n",
    "                         'Consumption Comb (Le/100 km)'}, inplace=True)"
   ]
  },
  {
   "attachments": {},
   "cell_type": "markdown",
   "metadata": {},
   "source": [
    "Importar csv consumo de autos de bateria electrica Consumo\\MY2012-2023 Battery Electric Vehicles.csv"
   ]
  },
  {
   "cell_type": "code",
   "execution_count": 807,
   "metadata": {},
   "outputs": [],
   "source": [
    "#Importación del csv a un dataframe\n",
    "df_consumo_electrico= pd.read_csv('Datasets\\Fuel Consumption\\MY2012-2023 Battery Electric Vehicles.csv')"
   ]
  },
  {
   "cell_type": "code",
   "execution_count": 808,
   "metadata": {},
   "outputs": [],
   "source": [
    "#Selección de las columnas a utilizar\n",
    "df_consumo_electrico= df_consumo_electrico[['Model Year','Make','Model', 'Fuel Type', \n",
    "                        'Consumption Comb (kWh/100 km)','Consumption Comb (Le/100 km)',\n",
    "                        'CO2 Emissions(g/km)', 'Recharge Time(h)']]"
   ]
  },
  {
   "cell_type": "code",
   "execution_count": 973,
   "metadata": {},
   "outputs": [],
   "source": [
    "#Creamos el nuevo dataframe llamando a la función y tomamos los registros que necesitamos\n",
    "electricos= Obtener_info(df_consumo_electrico[df_consumo_electrico['Model Year'] \n",
    "                        == 2023]).iloc[[0,8,11,13,17]]\n",
    "\n",
    "#Reseteamos el índice para dejar ordenado el dataframe\n",
    "electricos.reset_index(drop=True, inplace=True)"
   ]
  },
  {
   "cell_type": "code",
   "execution_count": 977,
   "metadata": {},
   "outputs": [],
   "source": [
    "#Quitar palabras extra de los modelos para que coincidan con la lista de modelos\n",
    "char_remov= ['Standard Range', 'RWD']\n",
    "\n",
    "for index, value in enumerate (electricos['Model']):\n",
    "    for char in char_remov:\n",
    "        value = value.replace(char, \"\").strip()\n",
    "        electricos.loc[index, 'Model'] = value"
   ]
  },
  {
   "cell_type": "code",
   "execution_count": 978,
   "metadata": {},
   "outputs": [],
   "source": [
    "#Renombrar columnas para lograr la coincidencia entre dataframes\n",
    "electricos.rename(columns= {'CO2 Emissions(g/km)': 'CO2 Emissions (g/km)',\n",
    "                            'Recharge Time(h)' : 'Recharge Time (h)'}, inplace=True)"
   ]
  },
  {
   "cell_type": "code",
   "execution_count": 979,
   "metadata": {},
   "outputs": [],
   "source": [
    "#Acomodar nombre para que coincidan con la lista de modelos\n",
    "electricos.loc[1, 'Model'] = 'Ioniq 5'"
   ]
  },
  {
   "attachments": {},
   "cell_type": "markdown",
   "metadata": {},
   "source": [
    "Importar csv consumo de autos de bateria electrica Consumo\\MY2012-2023 Plug-in Hybrid Electric Vehicles.csv"
   ]
  },
  {
   "cell_type": "code",
   "execution_count": 838,
   "metadata": {},
   "outputs": [],
   "source": [
    "#Importación del csv a un dataframe\n",
    "df_consumo_hibrido= pd.read_csv('Datasets\\Fuel Consumption\\MY2012-2023 Plug-in Hybrid Electric Vehicles.csv')"
   ]
  },
  {
   "cell_type": "code",
   "execution_count": 839,
   "metadata": {},
   "outputs": [],
   "source": [
    "#Selección de las columnas a utilizar\n",
    "df_consumo_hibrido= df_consumo_hibrido[['Model Year','Make','Model','Fuel Type 1', \n",
    "                                        'Consumption Combined Le/100 km', \n",
    "                                        'Recharge Time (h)','CO2 Emissions (g/km)']]"
   ]
  },
  {
   "cell_type": "code",
   "execution_count": 980,
   "metadata": {},
   "outputs": [],
   "source": [
    "#Creamos el nuevo dataframe llamando a la función y tomamos los registros que necesitamos\n",
    "hibridos= Obtener_info(df_consumo_hibrido[df_consumo_hibrido['Model Year'] \n",
    "                       == '2023']).iloc[[0,1,2,5]]\n",
    "\n",
    "#Reseteamos el índice para dejar ordenado el dataframe\n",
    "hibridos.reset_index(drop=True, inplace=True)"
   ]
  },
  {
   "cell_type": "code",
   "execution_count": 981,
   "metadata": {},
   "outputs": [],
   "source": [
    "#Renombrar registros para que coincidan con la lista de modelos\n",
    "hibridos.loc[1, 'Model'] = 'Escape Hybrid'\n",
    "hibridos.loc[3, 'Model'] = 'RAV4 Hybrid'"
   ]
  },
  {
   "cell_type": "code",
   "execution_count": 982,
   "metadata": {},
   "outputs": [],
   "source": [
    "#Renombrar columnas para lograr la coincidencia entre dataframes\n",
    "hibridos.rename(columns= {'Fuel Type 1' : 'Fuel Type', 'Consumption Combined Le/100 km' :\n",
    "                          'Consumption Comb (Le/100 km)'}, inplace=True)"
   ]
  },
  {
   "cell_type": "code",
   "execution_count": 983,
   "metadata": {},
   "outputs": [],
   "source": [
    "#Crear nueva columna\n",
    "hibridos['Consumption Comb (kWh/100 km)'] = 0\n",
    "\n",
    "#Asignar valores en diferentes columnas según corresponda\n",
    "for index, value in enumerate (hibridos['Consumption Comb (Le/100 km)']):\n",
    "    hibridos.loc[index, 'Consumption Comb (kWh/100 km)'] = value[6:10]\n",
    "    hibridos.loc[index, 'Consumption Comb (Le/100 km)'] = value[:3]"
   ]
  },
  {
   "attachments": {},
   "cell_type": "markdown",
   "metadata": {},
   "source": [
    "Creación dataframe con toda la informacion de los autos, el precio y la contaminacion"
   ]
  },
  {
   "cell_type": "code",
   "execution_count": 984,
   "metadata": {},
   "outputs": [],
   "source": [
    "#Concatenación de los distintos tipos de autos\n",
    "df_cars= pd.concat([modelos, electricos, hibridos], ignore_index=True)\n",
    "\n",
    "#Ordenar el dataframe según la marca y el modelo\n",
    "df_cars.sort_values(['Make', 'Model'], ignore_index=True, inplace=True)\n",
    "\n",
    "#Mergear el precio de los autos en función del modelo\n",
    "df_cars= df_cars.merge(df_lista_autos[['MSRP(usd)','Model']], on='Model')"
   ]
  },
  {
   "cell_type": "code",
   "execution_count": 985,
   "metadata": {},
   "outputs": [],
   "source": [
    "#Creación de un Id por cada modelo de auto\n",
    "id_autos = np.arange(1, 27)\n",
    "df_cars.insert(0, 'Vehicle_id', id_autos)"
   ]
  },
  {
   "attachments": {},
   "cell_type": "markdown",
   "metadata": {},
   "source": [
    "Importar dataset de contaminación sonora, extraído del siguiente link:\n",
    " \n",
    "https://www.kaggle.com/datasets/murtio/car-noise-specification"
   ]
  },
  {
   "cell_type": "code",
   "execution_count": null,
   "metadata": {},
   "outputs": [],
   "source": [
    "#Importación de dataset\n",
    "df_noise = pd.read_csv('Datasets\\Auxiliares\\car_noise_specification_datasets.csv')\n",
    "#Selección de columnas a utilizar\n",
    "df_noise= df_noise[['brand', 'model', 'year', 'spec','dB_at_80kmh']]\n",
    "#Eliminar columnas con valores nulos\n",
    "df_noise.dropna(inplace=True)\n",
    "#Renombrar la columna para usar la función\n",
    "df_noise.rename(columns={'model' : 'Model'}, inplace=True)"
   ]
  },
  {
   "cell_type": "code",
   "execution_count": 987,
   "metadata": {},
   "outputs": [],
   "source": [
    "#Extraer información de contaminación sonora según los modelos de autos\n",
    "df_noise= Obtener_info(df_noise).iloc[[0,3,4,7,8,13,14,15,17,24,37,38,39,40]]\n",
    "#Resetear index para ordenar el dataframe\n",
    "df_noise.reset_index(drop=True, inplace=True)"
   ]
  },
  {
   "cell_type": "code",
   "execution_count": 988,
   "metadata": {},
   "outputs": [],
   "source": [
    "#Traspasar el nombres 'Hybrid' de la columna spec a la columna Model\n",
    "condicion = df_noise['spec'] == 'Hybrid'\n",
    "\n",
    "df_noise.loc[condicion, 'Model'] = (df_noise.loc[condicion, 'Model'] + ' ' +\n",
    "                                    df_noise.loc[condicion, 'spec'])"
   ]
  },
  {
   "cell_type": "code",
   "execution_count": 989,
   "metadata": {},
   "outputs": [],
   "source": [
    "#Seleccionar columnas a utilizar\n",
    "df_noise = df_noise[['brand', 'Model', 'dB_at_80kmh']]"
   ]
  },
  {
   "cell_type": "code",
   "execution_count": 990,
   "metadata": {},
   "outputs": [],
   "source": [
    "#Agregar al df_cars la información de df_noise según cada modelo\n",
    "df_cars= df_cars.merge(df_noise[['dB_at_80kmh', 'Model']], on= 'Model', how= 'left')"
   ]
  },
  {
   "cell_type": "code",
   "execution_count": 991,
   "metadata": {},
   "outputs": [],
   "source": [
    "#Calcular valores promedios de ruido para aquellos modelos que no tienen información,\n",
    "#discriminando según el tipo de modelo (híbrido o combustión)\n",
    "media_hibrido= df_noise.iloc[[3,6,7,11]]['dB_at_80kmh'].mean()\n",
    "media_combustion= df_noise.iloc[[0,1,2,4,5,8,9,10,12,13]]['dB_at_80kmh'].mean()"
   ]
  },
  {
   "cell_type": "code",
   "execution_count": 992,
   "metadata": {},
   "outputs": [],
   "source": [
    "#Agregar promedio a modelos híbridos\n",
    "registros= [1,3,11]\n",
    "df_cars.loc[registros, 'dB_at_80kmh'] = media_hibrido\n",
    "\n",
    "#Agregar promedio a modelos a combustión\n",
    "registros= [5,12,16,18]\n",
    "df_cars.loc[registros, 'dB_at_80kmh'] = media_combustion"
   ]
  },
  {
   "cell_type": "code",
   "execution_count": 993,
   "metadata": {},
   "outputs": [],
   "source": [
    "#Agregar nivel de ruido de modelos eléctricos, obtenido de: \n",
    "#https://tbtp-ev.github.io/tbtp-results-noise.html\n",
    "\n",
    "df_cars.loc[6, 'dB_at_80kmh'] = 65.7\n",
    "df_cars.loc[14, 'dB_at_80kmh'] = 67.2\n",
    "df_cars.loc[10, 'dB_at_80kmh'] = 64.8\n",
    "df_cars.loc[4, 'dB_at_80kmh'] = 65.8\n",
    "df_cars.loc[15, 'dB_at_80kmh'] = 65.8"
   ]
  },
  {
   "cell_type": "code",
   "execution_count": null,
   "metadata": {},
   "outputs": [],
   "source": [
    "#Seleccionar columnas para df_car_models\n",
    "df_car_models= df_cars[['Vehicle_id', 'Model Year', 'Make', 'Model', 'MSRP(usd)']]\n",
    "#Ordenar el dataframe según el Vehicle_id\n",
    "df_car_models.sort_values('Vehicle_id', inplace=True)\n",
    "#Exportar a csv\n",
    "df_car_models.to_csv('Datasets\\Finales\\car_models.csv', index=False)"
   ]
  },
  {
   "cell_type": "code",
   "execution_count": null,
   "metadata": {},
   "outputs": [],
   "source": [
    "#Seleccionar columnas para df_pollution\n",
    "df_pollution = df_cars[['Vehicle_id', 'Fuel Type','Consumption Comb (Le/100 km)', \n",
    "                         'Consumption Comb (kWh/100 km)','Recharge Time (h)', \n",
    "                         'CO2 Emissions (g/km)', 'dB_at_80kmh' ]]\n",
    "#Ordenar el dataframe según Fuel Tipe\n",
    "df_pollution.sort_values('Fuel Type', inplace=True)\n",
    "#Exportar a csv\n",
    "df_pollution.to_csv('Datasets\\Finales\\pollution.csv', index=False)"
   ]
  }
 ],
 "metadata": {
  "kernelspec": {
   "display_name": "Python 3",
   "language": "python",
   "name": "python3"
  },
  "language_info": {
   "codemirror_mode": {
    "name": "ipython",
    "version": 3
   },
   "file_extension": ".py",
   "mimetype": "text/x-python",
   "name": "python",
   "nbconvert_exporter": "python",
   "pygments_lexer": "ipython3",
   "version": "3.10.8"
  },
  "orig_nbformat": 4
 },
 "nbformat": 4,
 "nbformat_minor": 2
}
